{
 "cells": [
  {
   "cell_type": "code",
   "execution_count": 1,
   "metadata": {},
   "outputs": [],
   "source": [
    "import pandas as pd\n",
    "import numpy as np\n",
    "import matplotlib.pyplot as plt\n",
    "import seaborn as sns\n",
    "from emukit.core import ParameterSpace, ContinuousParameter, DiscreteParameter\n",
    "from emukit.core.initial_designs.random_design import RandomDesign\n",
    "from emukit.core.initial_designs.latin_design import LatinDesign\n",
    "from emukit.model_wrappers import GPyModelWrapper\n",
    "from emukit.bayesian_optimization.acquisitions import ExpectedImprovement, \\\n",
    "    NegativeLowerConfidenceBound, MaxValueEntropySearch\n",
    "\n",
    "from utils import get_array_and_len, x_scaler, x_descaler, get_closest_array, \\\n",
    "    define_parameter_space, get_rbf_kernel, get_gpr_model, get_matern52_kernel, \\\n",
    "    generate_visualization_efficiency_vs_ml_conditions, generate_contour_plot, \\\n",
    "    generate_visualization_suggested_process_conditions\n",
    "from utils import ScaledProbabilityOfFeasibility, ProbabilisticConstraintBayesianOptimizationLoop2"
   ]
  },
  {
   "cell_type": "code",
   "execution_count": 2,
   "metadata": {
    "scrolled": true
   },
   "outputs": [
    {
     "name": "stdout",
     "output_type": "stream",
     "text": [
      "Index(['Condition', 'NMP(mL)', 'DMF(mL)', 'DMSO(mL)',\n",
      "       'Perovskite concentration(M)', 'Annealing temperature(℃)',\n",
      "       'Vacuum Pressure(Pa)', 'Vacuum Pressure time(s)', 'Temperature(℃)',\n",
      "       'humidity(%)', 'Success or Fail'],\n",
      "      dtype='object')\n"
     ]
    }
   ],
   "source": [
    "# Assuming your data is in an Excel file named 'your_data.xlsx'.\n",
    "file_path = './器件薄膜数据.xlsx'\n",
    "sheet_name = '2022_07_15_film'\n",
    "\n",
    "df_film = pd.read_excel(file_path, sheet_name=sheet_name)\n",
    "print(df_film.columns)\n",
    "\n",
    "# Renaming the columns\n",
    "df_film.columns = ['Condition', 'NMP (mL)', 'DMF (mL)', 'DMSO (mL)', 'Perovskite concentration (M)',  'Annealing temperature (℃)', 'Vacuum Pressure (Pa)', 'Vacuum Pressure time (s)', 'Temperature (℃)', 'Humidity (%)', 'Success or Fail']\n",
    "\n",
    "# Filter the successful conditions\n",
    "success_conditions = df_film[df_film['Success or Fail'] == 1]['Condition'].values\n",
    "\n",
    "# Display the DataFrame\n",
    "#df_film\n"
   ]
  },
  {
   "cell_type": "code",
   "execution_count": 3,
   "metadata": {},
   "outputs": [
    {
     "name": "stdout",
     "output_type": "stream",
     "text": [
      "Index(['Condition', 'NMP(mL)', 'DMF(mL)', 'DMSO(mL)',\n",
      "       'Perovskite concentration(M)', 'Annealing temperature(℃)',\n",
      "       'Vacuum Pressure(Pa)', 'Vacuum Pressure time(s)', 'Temperature(℃)',\n",
      "       'humidity(%)', 'Voc (V)', 'FF (%)', 'Eff (%)', 'Jsc (mA/cm^2)'],\n",
      "      dtype='object')\n"
     ]
    }
   ],
   "source": [
    "import pandas as pd\n",
    "\n",
    "# Assuming your data is in an Excel file named 'your_data.xlsx' and the sheet name is '2022-device'.\n",
    "file_path = './器件薄膜数据.xlsx'\n",
    "sheet_name = '2022_07_15_device'\n",
    "\n",
    "df_device = pd.read_excel(file_path, sheet_name=sheet_name)\n",
    "print(df_device.columns)\n",
    "\n",
    "df_device.columns = ['Condition', 'NMP (mL)', 'DMF (mL)', 'DMSO (mL)', 'Perovskite concentration (M)', 'Annealing temperature (℃)', 'Vacuum Pressure (Pa)', 'Vacuum Pressure time (s)', 'Temperature (℃)', 'Humidity (%)',\n",
    "                     'Voc(V)', 'FF(%)', 'Eff(%)', 'Jsc(mA/cm^2)']\n",
    "# Filter data based on success_conditions\n",
    "success_conditions = [0, 2, 4, 5, 6, 7, 8, 11, 12, 17, 18]\n",
    "df_device = df_device.sort_values(by=list(df_device.iloc[:,[0,-1]].columns)).drop_duplicates('Condition', keep = 'last', ignore_index = True)\n",
    "df_device = df_device[df_device['Condition'].isin(success_conditions)]\n",
    "\n",
    "# Display the DataFrame\n",
    "# df_device"
   ]
  },
  {
   "cell_type": "code",
   "execution_count": 4,
   "metadata": {},
   "outputs": [],
   "source": [
    "# Load the dataset\n",
    "df_previous = pd.read_excel(\"./限制性数据.xlsx\")\n",
    "\n",
    "# Change the column names\n",
    "df_previous.columns = [\n",
    "    '',\n",
    "    'NMP (mL)',\n",
    "    'DMF (mL)',\n",
    "    'DMSO (mL)',\n",
    "    'Perovskite concentration (M)',\n",
    "    'Annealing temperature (℃)',\n",
    "    'Vacuum Pressure (Pa)',\n",
    "    'Vacuum Pressure time (s)',\n",
    "    'Temperature (℃)',\n",
    "    'Humidity (%)',\n",
    "    'Voc(V)',\n",
    "    'FF(%)',\n",
    "    'Eff(%)',\n",
    "    'Jsc(mA/cm^2)'\n",
    "]\n",
    "\n",
    "# Remove the first column\n",
    "df_previous = df_previous.iloc[:, 1:]\n",
    "\n",
    "#df_previous"
   ]
  },
  {
   "cell_type": "code",
   "execution_count": 5,
   "metadata": {},
   "outputs": [],
   "source": [
    "import numpy as np\n",
    "\n",
    "## Total process conditions: NMP x DMF x DMSO x PC x AT x VP x VT x T = 1871100000 conditions\n",
    "\n",
    "NMP_min, NMP_max, NMP_step = [0, 50, 5] ## Unit: ml ## 10 steps\n",
    "NMP_var, NMP_num = get_array_and_len(NMP_min, NMP_max, NMP_step)\n",
    "\n",
    "DMF_min, DMF_max, DMF_step = [0, 100, 5] ## Unit: ml ## 50 steps\n",
    "DMF_var, DMF_num = get_array_and_len(DMF_min, DMF_max, DMF_step)\n",
    "\n",
    "DMSO_min, DMSO_max, DMSO_step = [0, 50, 5] ## Unit: ml ## 10 steps\n",
    "DMSO_var, DMSO_num = get_array_and_len(DMSO_min, DMSO_max, DMSO_step)\n",
    "\n",
    "PC_min, PC_max, PC_step = [0.8, 1.8, 0.1] ## Unit: M ## 10 steps\n",
    "PC_var, PC_num = get_array_and_len(PC_min, PC_max, PC_step)\n",
    "\n",
    "AT_min, AT_max, AT_step = [100, 170, 10] ## Unit: °C ## 7 steps\n",
    "AT_var, AT_num = get_array_and_len(AT_min, AT_max, AT_step)\n",
    "\n",
    "VP_min, VP_max, VP_step = [20, 350, 10] ## Unit: Pa ## 33 steps\n",
    "VP_var, VP_num = get_array_and_len(VP_min, VP_max, VP_step)\n",
    "\n",
    "VT_min, VT_max, VT_step = [5, 50, 5] ## Unit: s ## 9 steps\n",
    "VT_var, VT_num = get_array_and_len(VT_min, VT_max, VT_step)\n",
    "\n",
    "T_min, T_max, T_step = [15, 30, 5] ## Unit: °C ## 3 steps\n",
    "T_var, T_num = get_array_and_len(T_min, T_max, T_step)\n",
    "\n",
    "humidity_min, humidity_max, humidity_step = [15, 45, 5]  # Unit: [%] ## 6 steps\n",
    "humidity_var, humidity_num = get_array_and_len(humidity_min, humidity_max, humidity_step)\n",
    "\n",
    "var_array = [NMP_var, DMF_var,\n",
    "DMSO_var, PC_var,\n",
    "AT_var, VP_var,\n",
    "VT_var, T_var, humidity_var]\n",
    "\n",
    "x_labels = ['NMP [ml]',\n",
    "'Dimethylformamide [ml]',\n",
    "'Dimethyl Sulfoxide [ml]',\n",
    "'Perovskite Concentration [M]',\n",
    "'Annealing Temperature [\\N{DEGREE SIGN}C]',\n",
    "'Vacuum Pressure [Pa]',\n",
    "'Vacuum Time [s]',\n",
    "'Temperature [\\N{DEGREE SIGN}C]',\n",
    "'Humidity [%]']"
   ]
  },
  {
   "cell_type": "code",
   "execution_count": 6,
   "metadata": {},
   "outputs": [],
   "source": [
    "from emukit.core.initial_designs.random_design import RandomDesign\n",
    "from emukit.core.initial_designs.latin_design import LatinDesign\n",
    "\n",
    "parameter_space = define_parameter_space(NMP_num, DMF_num, DMSO_num, PC_num, AT_num, \\\n",
    "                                         VP_num, VT_num, T_num, humidity_num)"
   ]
  },
  {
   "cell_type": "code",
   "execution_count": null,
   "metadata": {},
   "outputs": [
    {
     "name": "stderr",
     "output_type": "stream",
     "text": [
      "reconstraining parameters Mat52.lengthscale\n",
      "reconstraining parameters Mat52.variance\n",
      "reconstraining parameters rbf.lengthscale\n",
      "reconstraining parameters rbf.variance\n"
     ]
    }
   ],
   "source": [
    "np.random.seed(10)\n",
    "\n",
    "# Preprocess your data\n",
    "x_init = x_scaler(df_device.iloc[:, 1:10].values, var_array)\n",
    "y_init = np.transpose([df_device.iloc[:, -2].values])\n",
    "xc_init = x_scaler(df_film.iloc[:, 1:-1].values, var_array)\n",
    "yc_init = np.transpose([df_film.iloc[:, -1].values])\n",
    "X, Y, Xc, Yc = [x_init, y_init, xc_init, yc_init]\n",
    "\n",
    "Xc2 = x_scaler(df_previous.iloc[:,0:9].values, var_array)\n",
    "Yc2 = np.transpose([df_previous.iloc[:,-2].values])\n",
    "\n",
    "# get objective model\n",
    "input_dim = len(X[0])\n",
    "ker = get_matern52_kernel(input_dim)\n",
    "model_gpy = get_gpr_model(X, Y, ker, set_noise=True)\n",
    "objective_model = GPyModelWrapper(model_gpy)\n",
    "\n",
    "# get constraint model 1\n",
    "input_dim_c = len(Xc[0])\n",
    "ker_c = get_rbf_kernel(input_dim_c)\n",
    "yc_offset = 0.5 # constraint acquisition computes the probability of <0\n",
    "gpy_constraint_model = get_gpr_model(Xc, Yc-yc_offset, ker_c) \n",
    "constraint_model1 = GPyModelWrapper(gpy_constraint_model)\n",
    "\n",
    "# get_constraint_model 2\n",
    "input_dim_c2 = len(Xc2[0])\n",
    "ker_c2 = get_rbf_kernel(input_dim_c2)\n",
    "yc2_offset = np.mean(Yc2)  # constraint acquisition computes the probability of <0\n",
    "gpy_constraint_model2 = get_gpr_model(Xc2, Yc2-yc2_offset, ker_c2) \n",
    "constraint_model2 = GPyModelWrapper(gpy_constraint_model2)"
   ]
  },
  {
   "cell_type": "code",
   "execution_count": null,
   "metadata": {},
   "outputs": [],
   "source": [
    "objective_model.model.kern.lengthscale"
   ]
  },
  {
   "cell_type": "markdown",
   "metadata": {},
   "source": [
    "# Start the First Run of the Batch-mode Bayesian Optimization"
   ]
  },
  {
   "cell_type": "code",
   "execution_count": null,
   "metadata": {
    "scrolled": true
   },
   "outputs": [],
   "source": [
    "import numpy as np\n",
    "## Expeceted Improvement (EI)\n",
    "#acquisition = ExpectedImprovement(objective_model, jitter=.1)\n",
    "## Lower Confidence Bound (LCB)\n",
    "acquisition = NegativeLowerConfidenceBound(objective_model, beta = 1)\n",
    "\n",
    "# Make loop and collect points\n",
    "bayesopt_cons_pr = ProbabilisticConstraintBayesianOptimizationLoop2(model_objective=objective_model, \n",
    "                                                          space=parameter_space, \n",
    "                                                          acquisition=acquisition,\n",
    "                                                          model_constraint1=constraint_model1,\n",
    "                                                          model_constraint2=constraint_model2,\n",
    "                                                          batch_size = 22)\n",
    "\n",
    "X_new = bayesopt_cons_pr.candidate_point_calculator.compute_next_points(bayesopt_cons_pr.loop_state)\n",
    "X_new = x_scaler(get_closest_array(x_descaler(X_new, var_array), var_array), var_array)\n",
    "\n",
    "f_obj =  objective_model.model.predict       \n",
    "f_cons1 = constraint_model1.model.predict\n",
    "f_cons2 = constraint_model2.model.predict\n",
    "\n",
    "f_cons_acq = bayesopt_cons_pr.candidate_point_calculator.acquisition.acquisition.evaluate\n",
    "f_raw_acq = bayesopt_cons_pr.candidate_point_calculator.acquisition.acquisition.acquisition_1.evaluate\n",
    "f_cons_pr = bayesopt_cons_pr.candidate_point_calculator.acquisition.acquisition.acquisition_2.evaluate\n",
    "\n",
    "print('total condition no.:', len(Xc))\n",
    "print('total device no.:', len(bayesopt_cons_pr.loop_state.Y))\n",
    "print('maximum Y (PCE [%]): ', -np.min(np.transpose(np.round(bayesopt_cons_pr.loop_state.Y, 2))))\n",
    "\n",
    "df_Xnew = pd.DataFrame(get_closest_array(x_descaler(X_new, var_array), var_array), columns = df_film.columns[1:10])\n",
    "df_all = pd.concat([df_film.iloc[:,1:10], df_Xnew])\n",
    "df_all_ = df_all.drop_duplicates()\n",
    "df_Xnew = df_all_.iloc[15:40]\n",
    "df_Xnew = df_Xnew.sort_values(by=list(df_film.columns[1:-1]), ignore_index = True)\n",
    "df_Xnew.index = np.arange(len(df_Xnew))+len(df_film)\n",
    "\n",
    "df_Xnew"
   ]
  },
  {
   "cell_type": "code",
   "execution_count": null,
   "metadata": {},
   "outputs": [],
   "source": [
    "print(X_new)\n",
    "\n",
    "\n",
    "print(len(X_new))\n",
    "print(len(get_closest_array(x_descaler(X_new, var_array), var_array)))\n",
    "print(len(df_Xnew))\n",
    "print(len(df_all))\n",
    "print(var_array)\n",
    "#print(df_all.drop_duplicates())\n",
    "print(len(x_descaler(X_new, var_array)))"
   ]
  },
  {
   "cell_type": "code",
   "execution_count": null,
   "metadata": {},
   "outputs": [],
   "source": [
    "X_new = x_scaler(df_Xnew.values)\n",
    "\n",
    "y_pred_new, y_uncer_new = f_obj(X_new)\n",
    "y_pred_new = -y_pred_new\n",
    "y_uncer_new = np.sqrt(y_uncer_new)\n",
    "\n",
    "acq_produc = f_cons_acq(X_new)\n",
    "acq_fcn = f_raw_acq(X_new)\n",
    "acq_cons = f_cons_pr(X_new)"
   ]
  },
  {
   "cell_type": "markdown",
   "metadata": {},
   "source": [
    "# Quick histogram visualization of the newly suggested process conditions"
   ]
  },
  {
   "cell_type": "code",
   "execution_count": null,
   "metadata": {},
   "outputs": [],
   "source": [
    "generate(visualization_suggested_process_conditions(df_Xnew, 4, var_array))"
   ]
  },
  {
   "cell_type": "markdown",
   "metadata": {},
   "source": [
    "# Visualisation of Efficiency vs ML conditions, and Acquisition¶"
   ]
  },
  {
   "cell_type": "code",
   "execution_count": null,
   "metadata": {
    "scrolled": true
   },
   "outputs": [],
   "source": [
    "from emukit.core.initial_designs import RandomDesign\n",
    "\n",
    "f_obj =  objective_model.model.predict       \n",
    "\n",
    "generate_visualization_efficiency_vs_ml_conditions(X_new, Xc, df_device, df_film, f_obj, \\\n",
    "                                                   acq_fcn, acq_cons, acq_produc)"
   ]
  },
  {
   "cell_type": "code",
   "execution_count": null,
   "metadata": {},
   "outputs": [],
   "source": [
    "design = RandomDesign(parameter_space)\n",
    "x_sampled = design.get_samples(1000)\n",
    "x_columns = df_device.iloc[:,1 :10].columns\n",
    "\n",
    "for i in range(input_dim):\n",
    "    for j in range(input_dim-i-1):\n",
    "\n",
    "        # Generate a 2D grid for Contour plot\n",
    "        ind1 = i\n",
    "        ind2 = j+i+1\n",
    "        n_steps = 21\n",
    "        x1x2y_pred, x1x2y_uncer = [[], []]\n",
    "        for x1 in np.linspace(0, 1, n_steps):\n",
    "            for x2 in np.linspace(0, 1, n_steps):\n",
    "                x_temp = np.copy(x_sampled)\n",
    "                x_temp[:, ind1] = x1\n",
    "                x_temp[:, ind2] = x2\n",
    "                y_pred, y_uncer = f_obj(x_temp)\n",
    "                y_pred = -y_pred\n",
    "                x1_org = x_denormalizer(x_temp)[0, ind1]\n",
    "                x2_org = x_denormalizer(x_temp)[0, ind2]\n",
    "                x1x2y_pred.append([x1_org, x2_org, np.max(y_pred), np.mean(y_pred), np.min(y_pred)])\n",
    "                x1x2y_uncer.append([x1_org, x2_org, np.max(np.sqrt(y_uncer)), np.mean(np.sqrt(y_uncer)), np.min(np.sqrt(y_uncer))])\n",
    "\n",
    "        x1 = np.array(x1x2y_pred, dtype=object)[:, 0].reshape(n_steps, n_steps)\n",
    "        x2 = np.array(x1x2y_pred, dtype=object)[:, 1].reshape(n_steps, n_steps)\n",
    "\n",
    "        y_pred_max = np.array(x1x2y_pred, dtype=object)[:, 2].reshape(n_steps, n_steps)\n",
    "        y_pred_mean = np.array(x1x2y_pred, dtype=object)[:, 3].reshape(n_steps, n_steps)\n",
    "        y_pred_min = np.array(x1x2y_pred, dtype=object)[:, 4].reshape(n_steps, n_steps)\n",
    "\n",
    "        y_uncer_max = np.array(x1x2y_uncer, dtype=object)[:, 2].reshape(n_steps, n_steps)\n",
    "        y_uncer_mean = np.array(x1x2y_uncer, dtype=object)[:, 3].reshape(n_steps, n_steps)\n",
    "        y_uncer_min = np.array(x1x2y_uncer, dtype=object)[:, 4].reshape(n_steps, n_steps)\n",
    "\n",
    "        fs = 20\n",
    "        title_pad = 16\n",
    "\n",
    "        # Contour for Prediction Efficiency Mean\n",
    "        fig, axes = plt.subplots(1, 3, figsize=(17, 4), sharey=False, sharex=False)\n",
    "        fig.subplots_adjust(wspace=0.4, hspace=None)\n",
    "        colorbar_offset = [12.5, 7, 4]\n",
    "        for ax, c_offset, y in zip(axes, colorbar_offset,\n",
    "                                   [y_pred_max, y_pred_mean, y_pred_min]):\n",
    "\n",
    "            c_plt1 = ax.contourf(x1, x2, y, levels=np.arange(19) * 0.25 + c_offset, cmap='plasma', extend = 'both')\n",
    "            #c_plt1 = ax.contourf(x1, x2, y, levels=np.linspace(17, 17, 20).tolist(), cmap='plasma', extend = 'both')\n",
    "            #c_plt1 = ax.contourf(x1, x2, y, levels=np.linspace(np.min(y), np.max(y), 20), cmap='plasma', extend = 'both')\n",
    "            cbar = fig.colorbar(c_plt1, ax=ax)\n",
    "            cbar.ax.tick_params(labelsize=fs * 0.8)\n",
    "            #ax.scatter(x_denormalizer(X)[:, ind1],\n",
    "                       #x_denormalizer(X)[:, ind2],\n",
    "                       #s=30, facecolors='gray', alpha=0.5, edgecolor='gray')\n",
    "            #ax.scatter(x_denormalizer(X_new)[:, ind1],\n",
    "                       #x_denormalizer(X_new)[:, ind2],\n",
    "                       #s=50, facecolors='none', alpha=0.9, edgecolor='green')\n",
    "            ax.set_xlabel(str(x_columns[ind1]), fontsize=fs)\n",
    "            ax.set_ylabel(str(x_columns[ind2]), fontsize=fs)\n",
    "\n",
    "            x1_delta = (np.max(x1) - np.min(x1)) * 0.05\n",
    "            x2_delta = (np.max(x2) - np.min(x2)) * 0.05\n",
    "            ax.set_xlim(np.min(x1) - x1_delta, np.max(x1) + x1_delta)\n",
    "            ax.set_ylim(np.min(x2) - x2_delta, np.max(x2) + x2_delta)\n",
    "            ax.tick_params(direction='in', length=5, width=1, labelsize=fs * 0.8)\n",
    "\n",
    "           # Update tick marks based on new dataset\n",
    "            #if ind1 == 4:  # Annealing temperature\n",
    "                #ax.set_xticks([100, 125, 135, 145, 155])\n",
    "            #if ind1 == 5:  # Vacuum Pressure\n",
    "                #ax.set_xticks([50, 100, 200, 250, 270])\n",
    "            #if ind1 == 6:  # Vacuum Pressure time\n",
    "                #ax.set_xticks([15, 17, 18, 25, 35, 45, 47])\n",
    "            #if ind1 == 7:  # Temperature\n",
    "                #ax.set_xticks([25])\n",
    "            #if ind1 == 8:  # Humidity\n",
    "                #ax.set_xticks([30])\n",
    "\n",
    "            #if ind2 == 4:  # Annealing temperature\n",
    "                #ax.set_yticks([100, 125, 135, 145, 155])\n",
    "            #if ind2 == 5:  # Vacuum Pressure\n",
    "                #ax.set_yticks([50, 100, 200, 250, 270])\n",
    "            #if ind2 == 6:  # Vacuum Pressure time\n",
    "                #ax.set_yticks([15, 17, 18, 25, 35, 45, 47])\n",
    "            #if ind2 == 7:  # Temperature\n",
    "                #ax.set_yticks([25])\n",
    "            #if ind2 == 8:  # Humidity\n",
    "                #ax.set_yticks([30])\n",
    "\n",
    "        axes[0].set_title('objective fcn max', pad=title_pad, fontsize=fs)\n",
    "        axes[1].set_title('objective fcn mean', pad=title_pad, fontsize=fs)\n",
    "        axes[2].set_title('objective fcn min', pad=title_pad, fontsize=fs)\n",
    "\n",
    "    plt.subplots_adjust(wspace=10)\n",
    "    plt.show()"
   ]
  },
  {
   "cell_type": "code",
   "execution_count": null,
   "metadata": {},
   "outputs": [],
   "source": []
  }
 ],
 "metadata": {
  "kernelspec": {
   "display_name": "Python [conda env:perovskite]",
   "language": "python",
   "name": "conda-env-perovskite-py"
  },
  "language_info": {
   "codemirror_mode": {
    "name": "ipython",
    "version": 3
   },
   "file_extension": ".py",
   "mimetype": "text/x-python",
   "name": "python",
   "nbconvert_exporter": "python",
   "pygments_lexer": "ipython3",
   "version": "3.10.4"
  }
 },
 "nbformat": 4,
 "nbformat_minor": 5
}
